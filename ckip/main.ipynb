{
 "cells": [
  {
   "cell_type": "code",
   "execution_count": 2,
   "id": "21ea5b46",
   "metadata": {},
   "outputs": [
    {
     "name": "stderr",
     "output_type": "stream",
     "text": [
      "Downloading...\n",
      "From (original): https://drive.google.com/uc?id=1efHsY16pxK0lBD2gYCgCTnv1Swstq771\n",
      "From (redirected): https://drive.google.com/uc?id=1efHsY16pxK0lBD2gYCgCTnv1Swstq771&confirm=t&uuid=97419a4c-0322-48d7-89dd-21f6477526e2\n",
      "To: /Users/matt_huang/Desktop/dev/nlp/ckip/data.zip\n",
      "100%|██████████| 1.88G/1.88G [14:14<00:00, 2.20MB/s]\n"
     ]
    }
   ],
   "source": [
    "from ckiptagger import data_utils, construct_dictionary, WS, POS, NER\n",
    "\n",
    "# data_utils.download_data_url(\"./\") # iis-ckip\n",
    "data_utils.download_data_gdown(\"./\") # gdrive-ckip"
   ]
  },
  {
   "cell_type": "code",
   "execution_count": 2,
   "id": "11592786",
   "metadata": {},
   "outputs": [],
   "source": [
    "ws = WS(\"./data\")\n",
    "pos = POS(\"./data\")\n",
    "ner = NER(\"./data\")"
   ]
  },
  {
   "cell_type": "code",
   "execution_count": 3,
   "id": "2e4ad026",
   "metadata": {},
   "outputs": [],
   "source": [
    "# word_to_weight = {\n",
    "#     \"土地公\": 1,\n",
    "#     \"土地婆\": 1,\n",
    "#     \"公有\": 2,\n",
    "#     \"\": 1,\n",
    "#     \"來亂的\": \"啦\",\n",
    "#     \"緯來體育台\": 1,\n",
    "# }\n",
    "# dictionary = construct_dictionary(word_to_weight)\n",
    "# print(dictionary)"
   ]
  },
  {
   "cell_type": "code",
   "execution_count": 6,
   "id": "b84d9bf2",
   "metadata": {},
   "outputs": [
    {
     "name": "stdout",
     "output_type": "stream",
     "text": [
      "Original: 動物界,脊索動物門,哺乳綱,嚙齒目,鼠科,大鼠屬,溝鼠\n",
      "Segmented: ['動物界', ',', '脊索', '動物', '門', ',', '哺乳綱', ',', '嚙齒目', ',', '鼠科', ',', '大鼠', '屬', ',', '溝鼠']\n",
      "\n",
      "Original: 動物界,脊索動物門,哺乳綱,嚙齒目,倉鼠科,田鼠屬,田鼠\n",
      "Segmented: ['動物界', ',', '脊索', '動物', '門', ',', '哺乳綱', ',', '嚙齒目', ',', '倉鼠科', ',', '田鼠', '屬', ',', '田鼠']\n",
      "\n",
      "Original: 動物界,脊索動物門,哺乳綱,嚙齒目,松鼠科,麗松鼠屬,赤腹鼠\n",
      "Segmented: ['動物界', ',', '脊索', '動物', '門', ',', '哺乳綱', ',', '嚙齒目', ',', '松鼠科', ',', '麗松鼠', '屬', ',', '赤腹鼠']\n",
      "\n",
      "Original: 動物界,脊索動物門,哺乳綱,雙門齒目,袋鼠科,袋鼠屬,紅大袋鼠\n",
      "Segmented: ['動物界', ',', '脊索', '動物', '門', ',', '哺乳綱', ',', '雙門齒目', ',', '袋鼠科', ',', '袋鼠', '屬', ',', '紅', '大袋鼠']\n",
      "\n",
      "Original: 動物界,脊索動物門,哺乳綱,偶蹄目,牛科,牛屬,黃牛\n",
      "Segmented: ['動物界', ',', '脊索', '動物', '門', ',', '哺乳綱', ',', '偶蹄目', ',', '牛科', ',', '牛屬', ',', '黃牛']\n",
      "\n",
      "Original: 動物界,脊索動物門,哺乳綱,偶蹄目,牛科,水牛屬,水牛\n",
      "Segmented: ['動物界', ',', '脊索', '動物', '門', ',', '哺乳綱', ',', '偶蹄目', ',', '牛科', ',', '水牛', '屬', ',', '水牛']\n",
      "\n",
      "Original: 動物界,脊索動物門,哺乳綱,肉食目,貓科,豹屬,孟加拉虎\n",
      "Segmented: ['動物界', ',', '脊索', '動物', '門', ',', '哺乳綱', ',', '肉食目', ',', '貓科', ',', '豹屬', ',', '孟加拉虎']\n",
      "\n",
      "Original: 動物界,脊索動物門,哺乳綱,肉食目,貓科,豹屬,獅子\n",
      "Segmented: ['動物界', ',', '脊索', '動物', '門', ',', '哺乳綱', ',', '肉食目', ',', '貓科', ',', '豹屬', ',', '獅子']\n",
      "\n",
      "Original: 動物界,脊索動物門,哺乳綱,肉食目,貓科,豹屬,花豹\n",
      "Segmented: ['動物界', ',', '脊索', '動物', '門', ',', '哺乳綱', ',', '肉食目', ',', '貓科', ',', '豹屬', ',', '花豹']\n",
      "\n",
      "Original: 動物界,脊索動物門,哺乳綱,肉食目,貓科,石虎屬,石虎\n",
      "Segmented: ['動物界', ',', '脊索', '動物', '門', ',', '哺乳綱', ',', '肉食目', ',', '貓科', ',', '石虎', '屬', ',', '石虎']\n",
      "\n",
      "Original: 動物界,脊索動物門,哺乳綱,肉食目,貓科,獵豹屬,獵豹\n",
      "Segmented: ['動物界', ',', '脊索', '動物', '門', ',', '哺乳綱', ',', '肉食目', ',', '貓科', ',', '獵豹', '屬', ',', '獵豹']\n",
      "\n",
      "Original: 動物界,脊索動物門,哺乳綱,兔形目,兔科,穴兔屬,家兔\n",
      "Segmented: ['動物界', ',', '脊索', '動物', '門', ',', '哺乳綱', ',', '兔形目', ',', '兔科', ',', '穴兔', '屬', ',', '家兔']\n",
      "\n",
      "Original: 動物界,脊索動物門,爬蟲綱,有鱗目,眼鏡蛇科,環蛇屬,雨傘節\n",
      "Segmented: ['動物界', ',', '脊索', '動物', '門', ',', '爬蟲綱', ',', '有', '鱗目', ',', '眼鏡蛇科', ',', '環蛇', '屬', ',', '雨傘節']\n",
      "\n",
      "Original: 動物界,脊索動物門,爬蟲綱,有鱗目,蝰科,青竹絲屬,青竹絲\n",
      "Segmented: ['動物界', ',', '脊索', '動物', '門', ',', '爬蟲綱', ',', '有', '鱗目', ',', '蝰科', ',', '青竹絲', '屬', ',', '青竹絲']\n",
      "\n",
      "Original: 動物界,脊索動物門,哺乳綱,奇蹄目,馬科,馬屬,馬\n",
      "Segmented: ['動物界', ',', '脊索', '動物', '門', ',', '哺乳綱', ',', '奇蹄目', ',', '馬科', ',', '馬屬', ',', '馬']\n",
      "\n",
      "Original: 動物界,脊索動物門,哺乳綱,奇蹄目,馬科,馬屬,斑馬\n",
      "Segmented: ['動物界', ',', '脊索', '動物', '門', ',', '哺乳綱', ',', '奇蹄目', ',', '馬科', ',', '馬屬', ',', '斑馬']\n",
      "\n",
      "Original: 動物界,脊索動物門,哺乳綱,偶蹄目,牛科,山羊屬,山羊\n",
      "Segmented: ['動物界', ',', '脊索', '動物', '門', ',', '哺乳綱', ',', '偶蹄目', ',', '牛科', ',', '山羊', '屬', ',', '山羊']\n",
      "\n",
      "Original: 動物界,脊索動物門,哺乳綱,偶蹄目,牛科,盤羊屬,綿羊\n",
      "Segmented: ['動物界', ',', '脊索', '動物', '門', ',', '哺乳綱', ',', '偶蹄目', ',', '牛科', ',', '盤羊', '屬', ',', '綿羊']\n",
      "\n",
      "Original: 動物界,脊索動物門,哺乳綱,偶蹄目,牛科,鬣羚屬,台灣長鬃山羊\n",
      "Segmented: ['動物界', ',', '脊索', '動物', '門', ',', '哺乳綱', ',', '偶蹄目', ',', '牛科', ',', '鬣羚', '屬', ',', '台灣', '長鬃山羊']\n",
      "\n",
      "Original: 動物界,脊索動物門,哺乳綱,靈長目,猴科,獼猴屬,台灣獼猴\n",
      "Segmented: ['動物界', ',', '脊索', '動物', '門', ',', '哺乳綱', ',', '靈長目', ',', '猴科', ',', '獼猴', '屬', ',', '台灣', '獼猴']\n",
      "\n"
     ]
    }
   ],
   "source": [
    "# datasets = \"小智研發創辦人黃謙智今天在紐約分享循環經濟實例，包括在COVID-19疫情嚴峻時以回收塑料及廢棄醫材打造模組化病房，彰顯垃圾可救人命，台灣有實力成為創新樞紐。第77屆聯合國大會期間，黃謙智出席紐約非營利組織Concordia年度峰會，在「台灣創新：引領科技進步邁向更永續的未來」場次中，分享台灣材料再生科技公司小智研發17年來運用創新技術落實永續發展的心得。黃謙智出場前，數位發展部長唐鳳透過預錄影片致詞強調，創新科技是解決人類攸關永續共同挑戰的基石。唐鳳提到，總統盃黑客松是公、私團體和國際夥伴協作創新解決方案的重要平台，自2018年舉辦以來，提出「搶救水寶寶」、「健康氣象e起來」等優異創意方案。此外，台灣有許多專注永續發展的企業，致力將回收材料打造成高性能耐久建材的小智研發是其中之一。黃謙智和主持人對談時說，COVID-19（2019冠狀病毒疾病）疫情嚴峻時，符合世界衛生組織（WHO）標準的醫療器材運送困難，小智研發集結創意思維，運用在地資源打造模組化防疫隔離病房，解決病房短缺難題。即使虧錢，這項計畫仍讓人知道垃圾也能拯救人命。\"\n",
    "# ckip_result = ws([datasets])\n",
    "# print(ckip_result)\n",
    "\n",
    "with open('animal.txt', 'r', encoding='utf-8') as f:\n",
    "    dataset = [line.strip() for line in f]\n",
    "\n",
    "ws_results = ws(dataset)\n",
    "\n",
    "for i, result in enumerate(ws_results):\n",
    "    print(f\"Original: {dataset[i]}\")\n",
    "    print(f\"Segmented: {result}\")\n",
    "    print()"
   ]
  },
  {
   "cell_type": "code",
   "execution_count": null,
   "id": "76fc9e09",
   "metadata": {},
   "outputs": [],
   "source": []
  }
 ],
 "metadata": {
  "kernelspec": {
   "display_name": "Python 3",
   "language": "python",
   "name": "python3"
  },
  "language_info": {
   "codemirror_mode": {
    "name": "ipython",
    "version": 3
   },
   "file_extension": ".py",
   "mimetype": "text/x-python",
   "name": "python",
   "nbconvert_exporter": "python",
   "pygments_lexer": "ipython3",
   "version": "3.6.15"
  }
 },
 "nbformat": 4,
 "nbformat_minor": 5
}
