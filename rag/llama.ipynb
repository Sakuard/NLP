{
 "cells": [
  {
   "cell_type": "code",
   "execution_count": 4,
   "id": "8912391b-72ac-4cb6-acba-5c1252cbb5ff",
   "metadata": {},
   "outputs": [],
   "source": [
    "import ollama\n",
    "import chromadb"
   ]
  },
  {
   "cell_type": "code",
   "execution_count": 5,
   "id": "4e22cd81-ed0c-4164-ad9a-46596f09601e",
   "metadata": {},
   "outputs": [
    {
     "data": {
      "text/plain": [
       "{'status': 'success'}"
      ]
     },
     "execution_count": 5,
     "metadata": {},
     "output_type": "execute_result"
    }
   ],
   "source": [
    "ollama.pull(model=\"llama3\")"
   ]
  },
  {
   "cell_type": "code",
   "execution_count": 13,
   "id": "cbe04e42-5399-4a00-9652-94f2bd05b7a2",
   "metadata": {},
   "outputs": [
    {
     "name": "stdout",
     "output_type": "stream",
     "text": [
      "In the context of distributed databases and large-scale data processing, both \"data chunks\" and \"data sharding\" are techniques used to manage and process massive amounts of data. While they share some similarities, there are key differences between them:\n",
      "\n",
      "**Data Chunks:**\n",
      "\n",
      "* Data chunks are fixed-size segments of data that are processed independently.\n",
      "* Each chunk typically contains a subset of the overall data, such as a specific range of rows or columns in a table.\n",
      "* Chunks are often created to enable parallel processing, where multiple workers can process different chunks simultaneously.\n",
      "* The goal is to break down large datasets into smaller, more manageable pieces that can be processed quickly and efficiently.\n",
      "\n",
      "**Data Sharding:**\n",
      "\n",
      "* Data sharding involves dividing a dataset into multiple horizontal partitions, called shards, based on specific criteria such as hash values, geographic locations, or time ranges.\n",
      "* Each shard contains a portion of the overall data, which is often stored in separate physical storage devices or nodes.\n",
      "* Sharding allows for load balancing and improved query performance by spreading the data across multiple nodes, reducing contention and improving read/write operations.\n",
      "* The goal is to distribute the data evenly across multiple nodes or servers, making it easier to scale horizontally and handle high volumes of data.\n",
      "\n",
      "Key differences:\n",
      "\n",
      "1. **Chunk size**: Data chunks are fixed-size segments, while shards can have varying sizes based on the sharding strategy used.\n",
      "2. **Partitioning criteria**: Chunks are typically created based on specific ranges or offsets in the data, whereas shards are created based on various criteria such as hash values or geographic locations.\n",
      "3. **Processing**: Chunks are often processed independently by multiple workers, while shards can be processed together using query optimization techniques that take into account the shard boundaries.\n",
      "4. **Scalability**: Data sharding is designed to scale horizontally by adding more nodes or servers, whereas data chunks are typically used for parallel processing within a single node or cluster.\n",
      "\n",
      "In summary, data chunks are smaller, fixed-size segments of data processed independently for parallelism, while data shards are larger, horizontal partitions of data distributed across multiple nodes or servers for load balancing and scalability.\n"
     ]
    }
   ],
   "source": [
    "prompt = \"What's different between data operation's data chunk vs data sharding?\"\n",
    "output = ollama.generate(\n",
    "    model=\"llama3\",\n",
    "    prompt=prompt\n",
    ")\n",
    "\n",
    "print(output['response'])"
   ]
  },
  {
   "cell_type": "code",
   "execution_count": 11,
   "id": "9379b4e6-64b1-4278-b300-324203bd0204",
   "metadata": {},
   "outputs": [
    {
     "name": "stdout",
     "output_type": "stream",
     "text": [
      "The sky appears blue because of a phenomenon called Rayleigh scattering, which is named after the British physicist Lord Rayleigh, who first described it in the late 19th century.\n",
      "\n",
      "Here's what happens:\n",
      "\n",
      "1. Sunlight enters Earth's atmosphere and is made up of all the colors of the visible spectrum, including red, orange, yellow, green, blue, indigo, and violet.\n",
      "2. When this light travels through the atmosphere, it encounters tiny molecules of gases like nitrogen (N2) and oxygen (O2). These molecules are much smaller than the wavelength of light.\n",
      "3. The smaller molecules scatter the shorter-wavelength blue light more effectively than the longer-wavelength red light. This is because the blue light has a higher frequency and energy, making it easier for the molecules to absorb and scatter.\n",
      "4. As a result, the blue light is distributed throughout the atmosphere, giving the sky its blue appearance.\n",
      "\n",
      "This scattering effect is more pronounced during the daytime when the sun is overhead, as this allows the shortest wavelengths of light (like blue) to reach our eyes from all directions. During sunrise and sunset, the angle of the sun changes, and the longer wavelengths of light (like red and orange) dominate, giving the sky its reddish hue.\n",
      "\n",
      "It's worth noting that the exact shade of blue can vary depending on atmospheric conditions, such as pollution levels, water vapor content, and the amount of dust and particles in the air. Additionally, the color of the sky can change at different altitudes and latitudes due to differences in atmospheric composition and scattering patterns.\n",
      "\n",
      "So there you have it! The blue color of the sky is a beautiful result of the intricate interplay between sunlight, atmospheric molecules, and our eyes."
     ]
    }
   ],
   "source": [
    "stream = ollama.chat(\n",
    "    model='llama3',\n",
    "    messages=[{'role': 'user', 'content': 'Why is the sky blue?'}],\n",
    "    stream=True,\n",
    ")\n",
    "\n",
    "for chunk in stream:\n",
    "  print(chunk['message']['content'], end='', flush=True)"
   ]
  },
  {
   "cell_type": "code",
   "execution_count": 19,
   "id": "af18c883-03c0-4606-be3c-7bd648654f4e",
   "metadata": {},
   "outputs": [
    {
     "name": "stdout",
     "output_type": "stream",
     "text": [
      "{'role': 'assistant', 'content': '[\"AI\", \"Python\", \"Github\"]'}\n"
     ]
    }
   ],
   "source": [
    "prompt = \"建政程式設計的新時代來臨了由奇標科技公司推出的新書AI神助攻程式設計新境界Github Copilot開發Python如虎添翼提示工程問題分解測試案例除錯你將體驗由AI驅動的程式設計開發Python如虎添翼提示工程問題分解測試案例由AI驅動的程式設計革命不再是繁瑣的語法手冊也不用到處copy程式碼Github Copilot不僅學會了人類的程式設計精華還能透過自然語言協助你提高開發效率本書由兩位資訊教育專家共同撰寫提供了學習Python的新方法書中精心設計的韓式設計循環流程引導你透過實戰演練掌握AI程式設計的關鍵技能奇標科技公司現在提供傳人頻道聽眾10本新書作為抽獎現在就點擊下方資訊欄貼文連結到貼文底下留言一起學程式並標註一位朋友將有機會抽中這本好書喔活動將於5月14號星期二23點59分截\"\n",
    "output = ollama.chat(\n",
    "    model=\"llama3\",\n",
    "    messages= [\n",
    "        {\n",
    "            \"role\": \"user\",\n",
    "            \"content\": \"我要你的回答只能是 Array-List object\"\n",
    "        },\n",
    "        {\n",
    "            \"role\": \"assistant\",\n",
    "            \"content\": \"[]\"\n",
    "        },\n",
    "        {\n",
    "            \"role\": \"user\",\n",
    "            \"content\": f\"很好，請針對下列 content:'{prompt}，產生一個 Array-List 包含屬於 content 的三個 關鍵字\"\n",
    "        }\n",
    "    ]\n",
    ")\n",
    "\n",
    "print(output['message'])"
   ]
  }
 ],
 "metadata": {
  "kernelspec": {
   "display_name": "Python 3 (ipykernel)",
   "language": "python",
   "name": "python3"
  },
  "language_info": {
   "codemirror_mode": {
    "name": "ipython",
    "version": 3
   },
   "file_extension": ".py",
   "mimetype": "text/x-python",
   "name": "python",
   "nbconvert_exporter": "python",
   "pygments_lexer": "ipython3",
   "version": "3.12.0"
  }
 },
 "nbformat": 4,
 "nbformat_minor": 5
}
