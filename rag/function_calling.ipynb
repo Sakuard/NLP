{
 "cells": [
  {
   "cell_type": "code",
   "execution_count": 22,
   "id": "d04e3ae4-c407-4fc6-a024-0a8b781a20ac",
   "metadata": {},
   "outputs": [],
   "source": [
    "!pip install -Uqqq pip --progress-bar off\n",
    "!pip install -qqq groq==0.9.0 --progress-bar off"
   ]
  },
  {
   "cell_type": "code",
   "execution_count": 23,
   "id": "a0a1dd49-32fc-41b0-af8d-4a8215708ed4",
   "metadata": {},
   "outputs": [
    {
     "ename": "ModuleNotFoundError",
     "evalue": "No module named 'google.colab'",
     "output_type": "error",
     "traceback": [
      "\u001b[0;31m---------------------------------------------------------------------------\u001b[0m",
      "\u001b[0;31mModuleNotFoundError\u001b[0m                       Traceback (most recent call last)",
      "Cell \u001b[0;32mIn[23], line 9\u001b[0m\n\u001b[1;32m      6\u001b[0m \u001b[38;5;28;01mfrom\u001b[39;00m \u001b[38;5;21;01menum\u001b[39;00m \u001b[38;5;28;01mimport\u001b[39;00m Enum, auto\n\u001b[1;32m      7\u001b[0m \u001b[38;5;28;01mfrom\u001b[39;00m \u001b[38;5;21;01mtyping\u001b[39;00m \u001b[38;5;28;01mimport\u001b[39;00m List, Set\n\u001b[0;32m----> 9\u001b[0m \u001b[38;5;28;01mfrom\u001b[39;00m \u001b[38;5;21;01mgoogle\u001b[39;00m\u001b[38;5;21;01m.\u001b[39;00m\u001b[38;5;21;01mcolab\u001b[39;00m \u001b[38;5;28;01mimport\u001b[39;00m userdata\n\u001b[1;32m     10\u001b[0m \u001b[38;5;28;01mfrom\u001b[39;00m \u001b[38;5;21;01mgroq\u001b[39;00m \u001b[38;5;28;01mimport\u001b[39;00m Groq\n\u001b[1;32m     12\u001b[0m client \u001b[38;5;241m=\u001b[39m Groq(api_key\u001b[38;5;241m=\u001b[39muserdata\u001b[38;5;241m.\u001b[39mget(\u001b[38;5;124m\"\u001b[39m\u001b[38;5;124mGROQ_API_KEY\u001b[39m\u001b[38;5;124m\"\u001b[39m))\n",
      "\u001b[0;31mModuleNotFoundError\u001b[0m: No module named 'google.colab'"
     ]
    }
   ],
   "source": [
    "\n",
    "import json\n",
    "import os\n",
    "import sqlite3\n",
    "from dataclasses import dataclass\n",
    "from datetime import date\n",
    "from enum import Enum, auto\n",
    "from typing import List, Set\n",
    "\n",
    "from google.colab import userdata\n",
    "from groq import Groq\n",
    "\n",
    "client = Groq(api_key=userdata.get(\"GROQ_API_KEY\"))\n",
    "MODEL = \"llama3-groq-70b-8192-tool-use-preview\""
   ]
  },
  {
   "cell_type": "markdown",
   "id": "cc57a37f-ac9c-4aa1-9683-c8a269074ff9",
   "metadata": {},
   "source": [
    "## Habit Tracker App"
   ]
  },
  {
   "cell_type": "code",
   "execution_count": null,
   "id": "1c0619d9-a15d-47d7-9c98-427619023186",
   "metadata": {},
   "outputs": [],
   "source": [
    "DB_NAME = \"habit_tracker.db\"\n",
    "\n",
    "\n",
    "class DayOfWeek(Enum):\n",
    "    MONDAY = auto()\n",
    "    TUESDAY = auto()\n",
    "    WEDNESDAY = auto()\n",
    "    THURSDAY = auto()\n",
    "    FRIDAY = auto()\n",
    "    SATURDAY = auto()\n",
    "    SUNDAY = auto()\n",
    "\n",
    "\n",
    "@dataclass\n",
    "class Habit:\n",
    "    id: int\n",
    "    name: str\n",
    "    repeat_frequency: Set[DayOfWeek]\n",
    "    tags: List[str]\n",
    "\n",
    "\n",
    "@dataclass\n",
    "class DailyHabitEntry:\n",
    "    id: int\n",
    "    name: str\n",
    "    tags: List[str]\n",
    "    is_completed: bool\n",
    "\n",
    "\n",
    "def get_connection():\n",
    "    return sqlite3.connect(DB_NAME)\n",
    "\n",
    "\n",
    "def create_tables():\n",
    "    with get_connection() as conn:\n",
    "        cursor = conn.cursor()\n",
    "        cursor.execute(\n",
    "            \"\"\"\n",
    "            CREATE TABLE IF NOT EXISTS habits (\n",
    "                id INTEGER PRIMARY KEY AUTOINCREMENT,\n",
    "                name TEXT NOT NULL,\n",
    "                repeat_frequency TEXT NOT NULL,\n",
    "                tags TEXT NOT NULL\n",
    "            )\n",
    "        \"\"\"\n",
    "        )\n",
    "        cursor.execute(\n",
    "            \"\"\"\n",
    "            CREATE TABLE IF NOT EXISTS completions (\n",
    "                habit_id INTEGER,\n",
    "                completion_date TEXT,\n",
    "                PRIMARY KEY (habit_id, completion_date),\n",
    "                FOREIGN KEY (habit_id) REFERENCES habits (id)\n",
    "            )\n",
    "        \"\"\"\n",
    "        )\n",
    "        conn.commit()\n",
    "\n",
    "\n",
    "def list_habits() -> List[Habit]:\n",
    "    with get_connection() as conn:\n",
    "        cursor = conn.cursor()\n",
    "        cursor.execute(\"SELECT * FROM habits\")\n",
    "        return [\n",
    "            Habit(\n",
    "                id,\n",
    "                name,\n",
    "                {DayOfWeek[day] for day in freq.split(\",\")},\n",
    "                tags.split(\",\"),\n",
    "            )\n",
    "            for id, name, freq, tags in cursor.fetchall()\n",
    "        ]\n",
    "\n",
    "\n",
    "def habits_for_date(date: date) -> List[DailyHabitEntry]:\n",
    "    weekday = DayOfWeek(date.weekday() + 1).name\n",
    "    with get_connection() as conn:\n",
    "        cursor = conn.cursor()\n",
    "        cursor.execute(\n",
    "            \"\"\"\n",
    "            SELECT h.id, h.name, h.tags, c.completion_date IS NOT NULL as completed\n",
    "            FROM habits h\n",
    "            LEFT JOIN completions c ON h.id = c.habit_id AND c.completion_date = ?\n",
    "            WHERE instr(h.repeat_frequency, ?) > 0\n",
    "        \"\"\",\n",
    "            (date.isoformat(), weekday),\n",
    "        )\n",
    "        return [\n",
    "            DailyHabitEntry(id, name, tags.split(\",\"), bool(completed))\n",
    "            for id, name, tags, completed in cursor.fetchall()\n",
    "        ]\n",
    "\n",
    "\n",
    "def complete_habit(habit_id: int, completion_date: date):\n",
    "    with get_connection() as conn:\n",
    "        cursor = conn.cursor()\n",
    "        cursor.execute(\n",
    "            \"\"\"\n",
    "            INSERT OR REPLACE INTO completions (habit_id, completion_date)\n",
    "            VALUES (?, ?)\n",
    "        \"\"\",\n",
    "            (habit_id, completion_date.isoformat()),\n",
    "        )\n",
    "        conn.commit()\n",
    "\n",
    "\n",
    "def add_habit(name: str, repeat_frequency: Set[DayOfWeek], tags: List[str] = []) -> int:\n",
    "    with get_connection() as conn:\n",
    "        cursor = conn.cursor()\n",
    "        cursor.execute(\n",
    "            \"\"\"\n",
    "            INSERT INTO habits (name, repeat_frequency, tags)\n",
    "            VALUES (?, ?, ?)\n",
    "        \"\"\",\n",
    "            (name, \",\".join(day.name for day in repeat_frequency), \",\".join(tags)),\n",
    "        )\n",
    "        conn.commit()\n",
    "        return cursor.lastrowid\n",
    "\n",
    "\n",
    "def show_habits_for_date(date: date):\n",
    "    print(f\"Habits for {date}:\")\n",
    "    for entry in habits_for_date(date):\n",
    "        status = \"Completed\" if entry.is_completed else \"Not completed\"\n",
    "        print(f\"- {entry.name} (ID: {entry.id}): {status}\")\n",
    "        print(f\"  Tags: {', '.join(entry.tags)}\")\n",
    "\n",
    "\n",
    "create_tables()"
   ]
  },
  {
   "cell_type": "code",
   "execution_count": 7,
   "id": "d4161de1-1af1-450d-a0fd-c14f13b65764",
   "metadata": {},
   "outputs": [
    {
     "ename": "NameError",
     "evalue": "name 'add_habit' is not defined",
     "output_type": "error",
     "traceback": [
      "\u001b[0;31m---------------------------------------------------------------------------\u001b[0m",
      "\u001b[0;31mNameError\u001b[0m                                 Traceback (most recent call last)",
      "Cell \u001b[0;32mIn[7], line 1\u001b[0m\n\u001b[0;32m----> 1\u001b[0m \u001b[43madd_habit\u001b[49m(\n\u001b[1;32m      2\u001b[0m     \u001b[38;5;124m\"\u001b[39m\u001b[38;5;124mHit the gym\u001b[39m\u001b[38;5;124m\"\u001b[39m,\n\u001b[1;32m      3\u001b[0m     {DayOfWeek\u001b[38;5;241m.\u001b[39mMONDAY, DayOfWeek\u001b[38;5;241m.\u001b[39mWEDNESDAY, DayOfWeek\u001b[38;5;241m.\u001b[39mFRIDAY},\n\u001b[1;32m      4\u001b[0m     [\u001b[38;5;124m\"\u001b[39m\u001b[38;5;124mexercise\u001b[39m\u001b[38;5;124m\"\u001b[39m, \u001b[38;5;124m\"\u001b[39m\u001b[38;5;124mfitness\u001b[39m\u001b[38;5;124m\"\u001b[39m],\n\u001b[1;32m      5\u001b[0m )\n\u001b[1;32m      6\u001b[0m add_habit(\u001b[38;5;124m\"\u001b[39m\u001b[38;5;124mFeed the llamas\u001b[39m\u001b[38;5;124m\"\u001b[39m, {DayOfWeek\u001b[38;5;241m.\u001b[39mSATURDAY, DayOfWeek\u001b[38;5;241m.\u001b[39mSUNDAY}, [\u001b[38;5;124m\"\u001b[39m\u001b[38;5;124mdiet\u001b[39m\u001b[38;5;124m\"\u001b[39m])\n",
      "\u001b[0;31mNameError\u001b[0m: name 'add_habit' is not defined"
     ]
    }
   ],
   "source": [
    "add_habit(\n",
    "    \"Hit the gym\",\n",
    "    {DayOfWeek.MONDAY, DayOfWeek.WEDNESDAY, DayOfWeek.FRIDAY},\n",
    "    [\"exercise\", \"fitness\"],\n",
    ")\n",
    "add_habit(\"Feed the llamas\", {DayOfWeek.SATURDAY, DayOfWeek.SUNDAY}, [\"diet\"])"
   ]
  },
  {
   "cell_type": "code",
   "execution_count": 8,
   "id": "cb0d6f6a-76ef-4549-89b6-7167d4606acd",
   "metadata": {},
   "outputs": [
    {
     "ename": "NameError",
     "evalue": "name 'list_habits' is not defined",
     "output_type": "error",
     "traceback": [
      "\u001b[0;31m---------------------------------------------------------------------------\u001b[0m",
      "\u001b[0;31mNameError\u001b[0m                                 Traceback (most recent call last)",
      "Cell \u001b[0;32mIn[8], line 1\u001b[0m\n\u001b[0;32m----> 1\u001b[0m \u001b[43mlist_habits\u001b[49m()\n",
      "\u001b[0;31mNameError\u001b[0m: name 'list_habits' is not defined"
     ]
    }
   ],
   "source": [
    "list_habits()"
   ]
  },
  {
   "cell_type": "code",
   "execution_count": null,
   "id": "32bed35f-e176-4e7e-bee5-c51df44bde9d",
   "metadata": {},
   "outputs": [],
   "source": [
    "TOOLS = [\n",
    "    {\n",
    "        \"type\": \"function\",\n",
    "        \"function\": {\n",
    "            \"name\": \"add_habit\",\n",
    "            \"description\": \"Add a new habit. Returns the id for the habit.\",\n",
    "            \"parameters\": {\n",
    "                \"type\": \"object\",\n",
    "                \"properties\": {\n",
    "                    \"name\": {\n",
    "                        \"type\": \"string\",\n",
    "                        \"description\": \"Name of the habit\",\n",
    "                    },\n",
    "                    \"repeat_frequency\": {\n",
    "                        \"type\": \"array\",\n",
    "                        \"description\": \"Days of week to repeat, e.g. ['MONDAY', 'WEDNESDAY', 'FRIDAY']\",\n",
    "                        \"items\": {\n",
    "                            \"type\": \"string\",\n",
    "                            \"enum\": [\n",
    "                                \"MONDAY\",\n",
    "                                \"TUESDAY\",\n",
    "                                \"WEDNESDAY\",\n",
    "                                \"THURSDAY\",\n",
    "                                \"FRIDAY\",\n",
    "                                \"SATURDAY\",\n",
    "                                \"SUNDAY\",\n",
    "                            ],\n",
    "                        },\n",
    "                    },\n",
    "                    \"tags\": {\n",
    "                        \"type\": \"array\",\n",
    "                        \"description\": \"List of tags, e.g. ['health', 'fitness']\",\n",
    "                    },\n",
    "                },\n",
    "                \"required\": [\"name\", \"repeat_frequency\"],\n",
    "            },\n",
    "        },\n",
    "    },\n",
    "    {\n",
    "        \"type\": \"function\",\n",
    "        \"function\": {\n",
    "            \"name\": \"list_habits\",\n",
    "            \"description\": \"Returns a list of all available habits\",\n",
    "        },\n",
    "    },\n",
    "    {\n",
    "        \"type\": \"function\",\n",
    "        \"function\": {\n",
    "            \"name\": \"habits_for_date\",\n",
    "            \"description\": \"Returns a list of habits scheduled for a date\",\n",
    "            \"parameters\": {\n",
    "                \"type\": \"object\",\n",
    "                \"properties\": {\n",
    "                    \"date\": {\n",
    "                        \"type\": \"str\",\n",
    "                        \"description\": \"Date for which to display scheduled habits in ISO format e.g. 2024-11-23\",\n",
    "                    }\n",
    "                },\n",
    "                \"required\": [\"date\"],\n",
    "            },\n",
    "        },\n",
    "    },\n",
    "    {\n",
    "        \"type\": \"function\",\n",
    "        \"function\": {\n",
    "            \"name\": \"complete_habit\",\n",
    "            \"description\": \"Completes a specific habit for a given date\",\n",
    "            \"parameters\": {\n",
    "                \"type\": \"object\",\n",
    "                \"properties\": {\n",
    "                    \"habit_id\": {\n",
    "                        \"type\": \"integer\",\n",
    "                        \"description\": \"Id of the habit, e.g. 1\",\n",
    "                    },\n",
    "                    \"completion_date\": {\n",
    "                        \"type\": \"str\",\n",
    "                        \"description\": \"Date for completion of the habit in ISO format e.g. 2024-11-23\",\n",
    "                    },\n",
    "                },\n",
    "                \"required\": [\"habit_id\", \"completion_date\"],\n",
    "            },\n",
    "        },\n",
    "    },\n",
    "]"
   ]
  },
  {
   "cell_type": "code",
   "execution_count": null,
   "id": "a0b4f036-0645-4120-a160-c691dfefa249",
   "metadata": {},
   "outputs": [],
   "source": [
    "AVAILABLE_FUNCTIONS = {\n",
    "    \"add_habit\": add_habit,\n",
    "    \"list_habits\": list_habits,\n",
    "    \"habits_for_date\": habits_for_date,\n",
    "    \"complete_habit\": complete_habit,\n",
    "}"
   ]
  },
  {
   "cell_type": "markdown",
   "id": "8947ca85-36ed-429f-9a69-87f402035428",
   "metadata": {},
   "source": [
    "## Map Arguments"
   ]
  },
  {
   "cell_type": "code",
   "execution_count": null,
   "id": "76d651da-5920-4ef6-b28b-bc74384fedf4",
   "metadata": {},
   "outputs": [],
   "source": [
    "argument_mapping = {}\n",
    "argument_mapping[\"repeat_frequency\"] = lambda day_names: [\n",
    "    DayOfWeek[d] for d in day_names\n",
    "]\n",
    "argument_mapping[\"date\"] = lambda d: date.fromisoformat(d)\n",
    "argument_mapping[\"completion_date\"] = lambda d: date.fromisoformat(d)"
   ]
  },
  {
   "cell_type": "markdown",
   "id": "8b9b6ac3-bd04-49ed-a7ae-85e6fe02130a",
   "metadata": {},
   "source": [
    "## Tool Prompting"
   ]
  },
  {
   "cell_type": "code",
   "execution_count": null,
   "id": "bcb5f7ca-3eea-4021-a263-de41d4641c6c",
   "metadata": {},
   "outputs": [],
   "source": [
    "user_prompt = \"Add a new habit for Reading a book every weekday #learning\"\n",
    "\n",
    "messages = [\n",
    "    {\n",
    "        \"role\": \"system\",\n",
    "        \"content\": \"You are a personal assistant that helps with habit tracking. Use the provided functions to manage the execution of daily habits for the user.\",\n",
    "    },\n",
    "    {\n",
    "        \"role\": \"user\",\n",
    "        \"content\": user_prompt,\n",
    "    },\n",
    "]\n",
    "\n",
    "response = client.chat.completions.create(\n",
    "    model=MODEL,\n",
    "    messages=messages,\n",
    "    tools=TOOLS,\n",
    "    tool_choice=\"auto\",\n",
    "    temperature=0,\n",
    "    max_tokens=4096,\n",
    ")"
   ]
  },
  {
   "cell_type": "code",
   "execution_count": null,
   "id": "a6570cb3-90fc-4b30-b9c2-0c8cfd873f75",
   "metadata": {},
   "outputs": [],
   "source": [
    "response_message = response.choices[0].message\n",
    "messages.append(response_message)\n",
    "print(response_message)\n",
    "tool_calls = response_message.tool_calls\n",
    "tool_calls"
   ]
  },
  {
   "cell_type": "code",
   "execution_count": null,
   "id": "0c8c4814-9057-4749-9793-31fa08578088",
   "metadata": {},
   "outputs": [],
   "source": [
    "for tool_call in tool_calls:\n",
    "    function_name = tool_call.function.name\n",
    "    function_to_call = AVAILABLE_FUNCTIONS[function_name]\n",
    "    function_args = json.loads(tool_call.function.arguments)"
   ]
  },
  {
   "cell_type": "code",
   "execution_count": null,
   "id": "df2eef41-3b41-44f2-bd79-af0d1eb32f19",
   "metadata": {},
   "outputs": [],
   "source": [
    "function_args"
   ]
  },
  {
   "cell_type": "code",
   "execution_count": 9,
   "id": "2c381d96-2f53-4f5c-a107-f647394f1d87",
   "metadata": {},
   "outputs": [
    {
     "ename": "NameError",
     "evalue": "name 'function_args' is not defined",
     "output_type": "error",
     "traceback": [
      "\u001b[0;31m---------------------------------------------------------------------------\u001b[0m",
      "\u001b[0;31mNameError\u001b[0m                                 Traceback (most recent call last)",
      "Cell \u001b[0;32mIn[9], line 1\u001b[0m\n\u001b[0;32m----> 1\u001b[0m arguments_to_map \u001b[38;5;241m=\u001b[39m \u001b[38;5;28mlist\u001b[39m(\u001b[38;5;28mset\u001b[39m(\u001b[43mfunction_args\u001b[49m\u001b[38;5;241m.\u001b[39mkeys()) \u001b[38;5;241m&\u001b[39m \u001b[38;5;28mset\u001b[39m(argument_mapping\u001b[38;5;241m.\u001b[39mkeys()))\n\u001b[1;32m      2\u001b[0m arguments_to_map\n",
      "\u001b[0;31mNameError\u001b[0m: name 'function_args' is not defined"
     ]
    }
   ],
   "source": [
    "arguments_to_map = list(set(function_args.keys()) & set(argument_mapping.keys()))\n",
    "arguments_to_map"
   ]
  },
  {
   "cell_type": "code",
   "execution_count": null,
   "id": "0f22bc9b-2591-4820-9a08-c85aad1fa113",
   "metadata": {},
   "outputs": [],
   "source": [
    "for arg_name in arguments_to_map:\n",
    "    function_args[arg_name] = argument_mapping[arg_name](function_args[arg_name])"
   ]
  },
  {
   "cell_type": "code",
   "execution_count": null,
   "id": "36ffdfa5-3fad-4ab1-a43e-319ca8cac068",
   "metadata": {},
   "outputs": [],
   "source": [
    "print(function_args)"
   ]
  },
  {
   "cell_type": "code",
   "execution_count": null,
   "id": "0c5a0fca-1c3c-4111-89b4-b612e604f68e",
   "metadata": {},
   "outputs": [],
   "source": [
    "function_response = function_to_call(**function_args)\n",
    "messages.append(\n",
    "    {\n",
    "        \"tool_call_id\": tool_call.id,\n",
    "        \"role\": \"tool\",\n",
    "        \"name\": function_name,\n",
    "        \"content\": str(function_response),\n",
    "    }\n",
    ")\n",
    "tool_response = client.chat.completions.create(\n",
    "    model=MODEL, messages=messages, temperature=0\n",
    ")"
   ]
  },
  {
   "cell_type": "code",
   "execution_count": null,
   "id": "1e054c4e-f113-4a3d-b0e8-155d3b36437f",
   "metadata": {},
   "outputs": [],
   "source": [
    "tool_message = tool_response.choices[0].message\n",
    "messages.append(tool_message)\n",
    "print(tool_message.content)"
   ]
  },
  {
   "cell_type": "code",
   "execution_count": 10,
   "id": "bc1c0058-d595-4d15-8573-d18c722e7994",
   "metadata": {},
   "outputs": [
    {
     "ename": "NameError",
     "evalue": "name 'list_habits' is not defined",
     "output_type": "error",
     "traceback": [
      "\u001b[0;31m---------------------------------------------------------------------------\u001b[0m",
      "\u001b[0;31mNameError\u001b[0m                                 Traceback (most recent call last)",
      "Cell \u001b[0;32mIn[10], line 1\u001b[0m\n\u001b[0;32m----> 1\u001b[0m \u001b[43mlist_habits\u001b[49m()\n",
      "\u001b[0;31mNameError\u001b[0m: name 'list_habits' is not defined"
     ]
    }
   ],
   "source": [
    "list_habits()"
   ]
  },
  {
   "cell_type": "markdown",
   "id": "784b5a26-6dee-41cf-b02c-736491c5629b",
   "metadata": {},
   "source": [
    "## Sequence of Function Calls"
   ]
  },
  {
   "cell_type": "code",
   "execution_count": 11,
   "id": "203f1d49-a4e8-4c84-b48b-adfdc294287b",
   "metadata": {},
   "outputs": [
    {
     "ename": "NameError",
     "evalue": "name 'argument_mapping' is not defined",
     "output_type": "error",
     "traceback": [
      "\u001b[0;31m---------------------------------------------------------------------------\u001b[0m",
      "\u001b[0;31mNameError\u001b[0m                                 Traceback (most recent call last)",
      "Cell \u001b[0;32mIn[11], line 1\u001b[0m\n\u001b[0;32m----> 1\u001b[0m \u001b[38;5;28;01mdef\u001b[39;00m \u001b[38;5;21mmap_arguments\u001b[39m(function_args: \u001b[38;5;28mdict\u001b[39m, argument_mapping: \u001b[38;5;28mdict\u001b[39m \u001b[38;5;241m=\u001b[39m \u001b[43margument_mapping\u001b[49m):\n\u001b[1;32m      2\u001b[0m     arguments_to_map \u001b[38;5;241m=\u001b[39m \u001b[38;5;28mlist\u001b[39m(\u001b[38;5;28mset\u001b[39m(function_args\u001b[38;5;241m.\u001b[39mkeys()) \u001b[38;5;241m&\u001b[39m \u001b[38;5;28mset\u001b[39m(argument_mapping\u001b[38;5;241m.\u001b[39mkeys()))\n\u001b[1;32m      3\u001b[0m     \u001b[38;5;28;01mfor\u001b[39;00m arg_name \u001b[38;5;129;01min\u001b[39;00m arguments_to_map:\n",
      "\u001b[0;31mNameError\u001b[0m: name 'argument_mapping' is not defined"
     ]
    }
   ],
   "source": [
    "def map_arguments(function_args: dict, argument_mapping: dict = argument_mapping):\n",
    "    arguments_to_map = list(set(function_args.keys()) & set(argument_mapping.keys()))\n",
    "    for arg_name in arguments_to_map:\n",
    "        function_args[arg_name] = argument_mapping[arg_name](function_args[arg_name])\n",
    "    return function_args"
   ]
  },
  {
   "cell_type": "code",
   "execution_count": 12,
   "id": "e06159a4-5657-4750-b945-3239656efc0e",
   "metadata": {},
   "outputs": [],
   "source": [
    "def call_function(prompt, messages: List) -> List:\n",
    "    messages.append(\n",
    "        {\n",
    "            \"role\": \"user\",\n",
    "            \"content\": user_prompt,\n",
    "        }\n",
    "    )\n",
    "\n",
    "    response = client.chat.completions.create(\n",
    "        model=MODEL,\n",
    "        messages=messages,\n",
    "        tools=TOOLS,\n",
    "        tool_choice=\"auto\",\n",
    "        temperature=0,\n",
    "        max_tokens=4096,\n",
    "    )\n",
    "\n",
    "    response_message = response.choices[0].message\n",
    "    tool_calls = response_message.tool_calls\n",
    "\n",
    "    messages.append(response_message)\n",
    "\n",
    "    for tool_call in tool_calls:\n",
    "        function_name = tool_call.function.name\n",
    "        function_to_call = AVAILABLE_FUNCTIONS[function_name]\n",
    "        function_args = json.loads(tool_call.function.arguments)\n",
    "        function_args = map_arguments(function_args, argument_mapping)\n",
    "\n",
    "        function_response = function_to_call(**function_args)\n",
    "        messages.append(\n",
    "            {\n",
    "                \"tool_call_id\": tool_call.id,\n",
    "                \"role\": \"tool\",\n",
    "                \"name\": function_name,\n",
    "                \"content\": str(function_response),\n",
    "            }\n",
    "        )\n",
    "        tool_response = client.chat.completions.create(\n",
    "            model=MODEL, messages=messages, temperature=0\n",
    "        )\n",
    "        tool_message = tool_response.choices[0].message\n",
    "        messages.append(tool_message)\n",
    "    return messages"
   ]
  },
  {
   "cell_type": "code",
   "execution_count": 13,
   "id": "dcb72a65-f861-422d-9f56-89b2a2bbf7a0",
   "metadata": {},
   "outputs": [
    {
     "ename": "NameError",
     "evalue": "name 'DayOfWeek' is not defined",
     "output_type": "error",
     "traceback": [
      "\u001b[0;31m---------------------------------------------------------------------------\u001b[0m",
      "\u001b[0;31mNameError\u001b[0m                                 Traceback (most recent call last)",
      "Cell \u001b[0;32mIn[13], line 2\u001b[0m\n\u001b[1;32m      1\u001b[0m today \u001b[38;5;241m=\u001b[39m date(\u001b[38;5;241m2024\u001b[39m, \u001b[38;5;241m7\u001b[39m, \u001b[38;5;241m26\u001b[39m)\n\u001b[0;32m----> 2\u001b[0m today\u001b[38;5;241m.\u001b[39misoformat(), \u001b[43mDayOfWeek\u001b[49m(today\u001b[38;5;241m.\u001b[39mweekday() \u001b[38;5;241m+\u001b[39m \u001b[38;5;241m1\u001b[39m)\u001b[38;5;241m.\u001b[39mname\n",
      "\u001b[0;31mNameError\u001b[0m: name 'DayOfWeek' is not defined"
     ]
    }
   ],
   "source": [
    "today = date(2024, 7, 26)\n",
    "today.isoformat(), DayOfWeek(today.weekday() + 1).name"
   ]
  },
  {
   "cell_type": "code",
   "execution_count": 14,
   "id": "d1935a74-907d-486e-9e7a-a7230ac964ba",
   "metadata": {},
   "outputs": [
    {
     "ename": "NameError",
     "evalue": "name 'show_habits_for_date' is not defined",
     "output_type": "error",
     "traceback": [
      "\u001b[0;31m---------------------------------------------------------------------------\u001b[0m",
      "\u001b[0;31mNameError\u001b[0m                                 Traceback (most recent call last)",
      "Cell \u001b[0;32mIn[14], line 1\u001b[0m\n\u001b[0;32m----> 1\u001b[0m \u001b[43mshow_habits_for_date\u001b[49m(today)\n",
      "\u001b[0;31mNameError\u001b[0m: name 'show_habits_for_date' is not defined"
     ]
    }
   ],
   "source": [
    "show_habits_for_date(today)"
   ]
  },
  {
   "cell_type": "code",
   "execution_count": 15,
   "id": "ed492f4e-e967-492c-9714-a7b5753ec0c2",
   "metadata": {},
   "outputs": [
    {
     "name": "stdout",
     "output_type": "stream",
     "text": [
      "Show all habits for today - 2024-07-26\n"
     ]
    }
   ],
   "source": [
    "user_prompt = f\"Show all habits for today - {today.isoformat()}\"\n",
    "print(user_prompt)"
   ]
  },
  {
   "cell_type": "code",
   "execution_count": 16,
   "id": "53fd7f06-7381-40f9-9a40-26639766532e",
   "metadata": {},
   "outputs": [
    {
     "ename": "NameError",
     "evalue": "name 'messages' is not defined",
     "output_type": "error",
     "traceback": [
      "\u001b[0;31m---------------------------------------------------------------------------\u001b[0m",
      "\u001b[0;31mNameError\u001b[0m                                 Traceback (most recent call last)",
      "Cell \u001b[0;32mIn[16], line 1\u001b[0m\n\u001b[0;32m----> 1\u001b[0m messages \u001b[38;5;241m=\u001b[39m call_function(user_prompt, \u001b[43mmessages\u001b[49m)\n\u001b[1;32m      2\u001b[0m \u001b[38;5;28mprint\u001b[39m(messages[\u001b[38;5;241m-\u001b[39m\u001b[38;5;241m1\u001b[39m]\u001b[38;5;241m.\u001b[39mcontent)\n",
      "\u001b[0;31mNameError\u001b[0m: name 'messages' is not defined"
     ]
    }
   ],
   "source": [
    "messages = call_function(user_prompt, messages)\n",
    "print(messages[-1].content)"
   ]
  },
  {
   "cell_type": "code",
   "execution_count": 18,
   "id": "c1dea663-7a5b-4450-83a3-cfe21d077db6",
   "metadata": {},
   "outputs": [
    {
     "data": {
      "text/plain": [
       "'Complete the gym habit for 2024-07-26'"
      ]
     },
     "execution_count": 18,
     "metadata": {},
     "output_type": "execute_result"
    }
   ],
   "source": [
    "user_prompt = f\"Complete the gym habit for {today.isoformat()}\"\n",
    "user_prompt"
   ]
  },
  {
   "cell_type": "code",
   "execution_count": 19,
   "id": "0433c43b-3429-4559-afc3-67ff0de15809",
   "metadata": {},
   "outputs": [
    {
     "ename": "NameError",
     "evalue": "name 'messages' is not defined",
     "output_type": "error",
     "traceback": [
      "\u001b[0;31m---------------------------------------------------------------------------\u001b[0m",
      "\u001b[0;31mNameError\u001b[0m                                 Traceback (most recent call last)",
      "Cell \u001b[0;32mIn[19], line 1\u001b[0m\n\u001b[0;32m----> 1\u001b[0m messages \u001b[38;5;241m=\u001b[39m call_function(user_prompt, \u001b[43mmessages\u001b[49m)\n\u001b[1;32m      2\u001b[0m \u001b[38;5;28mprint\u001b[39m(messages[\u001b[38;5;241m-\u001b[39m\u001b[38;5;241m1\u001b[39m]\u001b[38;5;241m.\u001b[39mcontent)\n",
      "\u001b[0;31mNameError\u001b[0m: name 'messages' is not defined"
     ]
    }
   ],
   "source": [
    "messages = call_function(user_prompt, messages)\n",
    "print(messages[-1].content)"
   ]
  },
  {
   "cell_type": "code",
   "execution_count": 20,
   "id": "451cd73d-b1d0-4a8b-b5ae-7c091f0e61ca",
   "metadata": {},
   "outputs": [
    {
     "ename": "NameError",
     "evalue": "name 'show_habits_for_date' is not defined",
     "output_type": "error",
     "traceback": [
      "\u001b[0;31m---------------------------------------------------------------------------\u001b[0m",
      "\u001b[0;31mNameError\u001b[0m                                 Traceback (most recent call last)",
      "Cell \u001b[0;32mIn[20], line 1\u001b[0m\n\u001b[0;32m----> 1\u001b[0m \u001b[43mshow_habits_for_date\u001b[49m(today)\n",
      "\u001b[0;31mNameError\u001b[0m: name 'show_habits_for_date' is not defined"
     ]
    }
   ],
   "source": [
    "show_habits_for_date(today)"
   ]
  }
 ],
 "metadata": {
  "kernelspec": {
   "display_name": "Python 3 (ipykernel)",
   "language": "python",
   "name": "python3"
  },
  "language_info": {
   "codemirror_mode": {
    "name": "ipython",
    "version": 3
   },
   "file_extension": ".py",
   "mimetype": "text/x-python",
   "name": "python",
   "nbconvert_exporter": "python",
   "pygments_lexer": "ipython3",
   "version": "3.12.0"
  }
 },
 "nbformat": 4,
 "nbformat_minor": 5
}
