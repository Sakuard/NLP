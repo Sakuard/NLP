{
 "cells": [
  {
   "cell_type": "code",
   "execution_count": 13,
   "id": "0e410338-e7f4-42ab-aa25-9221ff860e2f",
   "metadata": {},
   "outputs": [],
   "source": [
    "import chromadb\n",
    "import asyncio\n",
    "import ollama"
   ]
  },
  {
   "cell_type": "code",
   "execution_count": 14,
   "id": "0bb33bc5-67f2-485e-a2c3-f0be0fdf0886",
   "metadata": {},
   "outputs": [],
   "source": [
    "chroma_client = chromadb.HttpClient(host='localhost', port=8000)\n",
    "\n",
    "# collection = chroma_client.get_or_create_collection(name='docs')"
   ]
  },
  {
   "cell_type": "code",
   "execution_count": 15,
   "id": "f6ca3cf9-a26b-4b2b-9ff6-fa2fbcc92249",
   "metadata": {},
   "outputs": [],
   "source": [
    "collection = chroma_client.get_or_create_collection(name='docs')"
   ]
  },
  {
   "cell_type": "code",
   "execution_count": 4,
   "id": "b99495df-ee47-4a8c-8fd4-be2735a80912",
   "metadata": {},
   "outputs": [],
   "source": [
    "# 預先將會重複使用的功能，以函數的方式，便於後續呼叫使用"
   ]
  },
  {
   "cell_type": "code",
   "execution_count": 17,
   "id": "b15295c8-51b9-4259-92d5-8360b3db0498",
   "metadata": {},
   "outputs": [],
   "source": [
    "def heartbeat():\n",
    "    return chroma_client.heartbeat()\n",
    "\n",
    "def delete_collection(collection):\n",
    "    chroma_client.delete_collection(collection)\n",
    "\n",
    "def collection_reset():\n",
    "    data_ids = collection.peek(100)['ids']\n",
    "    for i in data_ids:\n",
    "        # print(i)\n",
    "        collection.delete(i)\n",
    "\n",
    "def collection_add(i, embedding, document):\n",
    "    collection.add(\n",
    "        ids=[i],\n",
    "        embeddings=[embedding],\n",
    "        documents=[document]\n",
    "    )\n",
    "\n",
    "def collection_query(query, n_results):\n",
    "    results = collection.query(\n",
    "        query_embeddings=query,\n",
    "        n_results=n_results\n",
    "    )\n",
    "    return results"
   ]
  },
  {
   "cell_type": "code",
   "execution_count": 24,
   "id": "c11f27c5-501b-40a7-bbb7-8eaa18ba10fe",
   "metadata": {},
   "outputs": [],
   "source": [
    "while True:\n",
    "    data_ids = collection.peek()['ids']\n",
    "    if not data_ids:\n",
    "        break\n",
    "    for i in data_ids:\n",
    "        # print(i)\n",
    "        collection.delete(i)"
   ]
  },
  {
   "cell_type": "code",
   "execution_count": 22,
   "id": "831a87db-26ca-489b-9caa-49b408cb9782",
   "metadata": {},
   "outputs": [
    {
     "name": "stdout",
     "output_type": "stream",
     "text": [
      "done\n"
     ]
    }
   ],
   "source": [
    "documents = [\n",
    "    \"動物界,脊索動物門,哺乳綱,嚙齒目,鼠科,大鼠屬,溝鼠\",\n",
    "    \"動物界,脊索動物門,哺乳綱,嚙齒目,倉鼠科,田鼠屬,田鼠\",\n",
    "    \"動物界,脊索動物門,哺乳綱,嚙齒目,松鼠科,麗松鼠屬,赤腹鼠\",\n",
    "    \"動物界,脊索動物門,哺乳綱,雙門齒目,袋鼠科,袋鼠屬,紅大袋鼠\",\n",
    "    \"動物界,脊索動物門,哺乳綱,偶蹄目,牛科,牛屬,黃牛\",\n",
    "    \"動物界,脊索動物門,哺乳綱,偶蹄目,牛科,水牛屬,水牛\",\n",
    "    \"動物界,脊索動物門,哺乳綱,肉食目,貓科,豹屬,孟加拉虎\",\n",
    "    \"動物界,脊索動物門,哺乳綱,肉食目,貓科,豹屬,獅子\",\n",
    "    \"動物界,脊索動物門,哺乳綱,肉食目,貓科,豹屬,花豹\",\n",
    "    \"動物界,脊索動物門,哺乳綱,肉食目,貓科,石虎屬,石虎\",\n",
    "    \"動物界,脊索動物門,哺乳綱,肉食目,貓科,獵豹屬,獵豹\",\n",
    "    \"動物界,脊索動物門,哺乳綱,兔形目,兔科,穴兔屬,家兔\",\n",
    "    \"動物界,脊索動物門,爬蟲綱,有鱗目,眼鏡蛇科,環蛇屬,雨傘節\",\n",
    "    \"動物界,脊索動物門,爬蟲綱,有鱗目,蝰科,青竹絲屬,青竹絲\",\n",
    "    \"動物界,脊索動物門,哺乳綱,奇蹄目,馬科,馬屬,馬\",\n",
    "    \"動物界,脊索動物門,哺乳綱,奇蹄目,馬科,馬屬,斑馬\",\n",
    "    \"動物界,脊索動物門,哺乳綱,偶蹄目,牛科,山羊屬,山羊\",\n",
    "    \"動物界,脊索動物門,哺乳綱,偶蹄目,牛科,盤羊屬,綿羊\",\n",
    "    \"動物界,脊索動物門,哺乳綱,偶蹄目,牛科,鬣羚屬,台灣長鬃山羊\",\n",
    "    \"動物界,脊索動物門,哺乳綱,靈長目,猴科,獼猴屬,台灣獼猴\",\n",
    "]\n",
    "# 檢查每個文件 ID 是否已存在，如果存在則跳過新增操作\n",
    "existing_docs = collection.get()\n",
    "existing_ids = set(existing_docs['ids'])\n",
    "\n",
    "for i, d in enumerate(documents):\n",
    "    response = ollama.embeddings(model=\"llama3\", prompt=d)\n",
    "    embedding = response[\"embedding\"]\n",
    "    collection_add(str(i),embedding,d)\n",
    "    # print(f\"embeddings: [{embedding}], documents: [{d}]\")\n",
    "    # collection.add(\n",
    "    #   ids=[str(i)],\n",
    "    #   embeddings=[embedding],\n",
    "    #   documents=[d]\n",
    "    # )\n",
    "\n",
    "print('done')\n"
   ]
  },
  {
   "cell_type": "code",
   "execution_count": 93,
   "id": "55820de8-5e0c-4e04-a445-90c7e505dd88",
   "metadata": {},
   "outputs": [],
   "source": [
    "prompt = \"資料庫中哪中動物與下列這個最相近\\n'動物界,脊索動物門,哺乳綱,偶蹄目,牛科,狗狗屬,白狗'?\"\n",
    "response = ollama.embeddings(\n",
    "  prompt=prompt,\n",
    "  model=\"llama3\"\n",
    ")"
   ]
  },
  {
   "cell_type": "code",
   "execution_count": 19,
   "id": "fc56b0b1-1aad-4350-a6dc-8ec03d10c737",
   "metadata": {},
   "outputs": [
    {
     "name": "stdout",
     "output_type": "stream",
     "text": [
      "data: ['動物界,脊索動物門,哺乳綱,靈長目,猴科,獼猴屬,台灣獼猴', '動物界,脊索動物門,哺乳綱,雙門齒目,袋鼠科,袋鼠屬,紅大袋鼠', '動物界,脊索動物門,哺乳綱,偶蹄目,牛科,鬣羚屬,台灣長鬃山羊', '動物界,脊索動物門,哺乳綱,肉食目,貓科,豹屬,花豹', '動物界,脊索動物門,哺乳綱,肉食目,貓科,石虎屬,石虎', '動物界,脊索動物門,哺乳綱,兔形目,兔科,穴兔屬,家兔']\n",
      "{'ids': [['19', '3', '18', '8', '9', '11']], 'distances': [[0.0, 3424.0587441161697, 4206.558097385314, 4765.787329230293, 5247.593207506797, 5561.906275189448]], 'embeddings': None, 'metadatas': [[None, None, None, None, None, None]], 'documents': [['動物界,脊索動物門,哺乳綱,靈長目,猴科,獼猴屬,台灣獼猴', '動物界,脊索動物門,哺乳綱,雙門齒目,袋鼠科,袋鼠屬,紅大袋鼠', '動物界,脊索動物門,哺乳綱,偶蹄目,牛科,鬣羚屬,台灣長鬃山羊', '動物界,脊索動物門,哺乳綱,肉食目,貓科,豹屬,花豹', '動物界,脊索動物門,哺乳綱,肉食目,貓科,石虎屬,石虎', '動物界,脊索動物門,哺乳綱,兔形目,兔科,穴兔屬,家兔']], 'uris': None, 'data': None, 'included': ['metadatas', 'documents', 'distances']}\n"
     ]
    }
   ],
   "source": [
    "results = collection_query([response[\"embedding\"]],6)\n",
    "data = results['documents'][0]\n",
    "print(f\"data: {data}\")\n",
    "print(results)"
   ]
  },
  {
   "cell_type": "code",
   "execution_count": 25,
   "id": "2960d751-5e9b-41b9-98c8-c31decaa3d5f",
   "metadata": {},
   "outputs": [
    {
     "name": "stdout",
     "output_type": "stream",
     "text": [
      "[]\n",
      "[]\n"
     ]
    }
   ],
   "source": [
    "# print(collection.peek(10)['documents'])\n",
    "print(collection.peek(100)['ids'])\n",
    "print(collection.peek(100)['documents'])"
   ]
  },
  {
   "cell_type": "code",
   "execution_count": 95,
   "id": "2f0f4ef0-2c41-42c4-a5eb-1b377d977dfe",
   "metadata": {},
   "outputs": [
    {
     "name": "stdout",
     "output_type": "stream",
     "text": [
      "😊\n",
      "\n",
      "根據提供的資料，以下是兩隻動物之間的相似度排序：\n",
      "\n",
      "1. 紅大袋鼠 (Pseudocheirus peregrinus) - 90%\n",
      "2. 台灣長鬃山羊 (Muntiacus reevesi) - 80%\n",
      "\n",
      "這兩個動物都是哺乳綱（Mammalia）下的偶蹄目（Artiodactyla）的成員，並且都有袋鼠科（Macropodidae）或牛科（Bovidae）等的關係。\n",
      "\n",
      "在這兩隻動物中，紅大袋鼠是最相近於白狗（Canis lupus familiaris）的，因為：\n",
      "\n",
      "* 都是哺乳綱下的偶蹄目。\n",
      "* 都有袋鼠科或牛科的關係。\n",
      "* 都有四肢和尾巴。\n",
      "\n",
      "因此，根據資料庫中的資料，我們可以認為紅大袋鼠與白狗之間的相似度最高。 👍\n"
     ]
    }
   ],
   "source": [
    "ollama.pull(model=\"llama3\")\n",
    "output = ollama.generate(\n",
    "    model=\"llama3\",\n",
    "    prompt=f\"以繁體中文回答\\n使用這筆資料: {data}, 來對這個提問\\n{prompt}\\n產生對應的回應\"\n",
    ")\n",
    "print(output['response'])"
   ]
  },
  {
   "cell_type": "code",
   "execution_count": 88,
   "id": "14400b4a-4a4c-47c4-bc31-09eea2e3a8a4",
   "metadata": {},
   "outputs": [],
   "source": [
    "delete_collection(\"docs\")"
   ]
  }
 ],
 "metadata": {
  "kernelspec": {
   "display_name": "Python 3 (ipykernel)",
   "language": "python",
   "name": "python3"
  },
  "language_info": {
   "codemirror_mode": {
    "name": "ipython",
    "version": 3
   },
   "file_extension": ".py",
   "mimetype": "text/x-python",
   "name": "python",
   "nbconvert_exporter": "python",
   "pygments_lexer": "ipython3",
   "version": "3.12.0"
  }
 },
 "nbformat": 4,
 "nbformat_minor": 5
}
