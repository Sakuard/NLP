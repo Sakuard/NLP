{
 "cells": [
  {
   "cell_type": "code",
   "execution_count": 29,
   "id": "f038a8f7-4134-4ed8-82bc-49887881d766",
   "metadata": {},
   "outputs": [
    {
     "name": "stderr",
     "output_type": "stream",
     "text": [
      "Tokenization: 100%|█| 1/1 [00:00<\n",
      "Inference: 100%|█| 1/1 [00:00<00:\n",
      "Tokenization: 100%|█| 1/1 [00:00<\n",
      "Inference: 100%|█| 1/1 [00:00<00:\n",
      "Tokenization: 100%|█| 1/1 [00:00<\n",
      "Inference: 100%|█| 1/1 [00:00<00:\n",
      "Tokenization: 100%|█| 1/1 [00:00<\n",
      "Inference: 100%|█| 1/1 [00:00<00:"
     ]
    },
    {
     "name": "stdout",
     "output_type": "stream",
     "text": [
      "[['見證', '程式', '設計', '的', '新', '時代', '來臨', '了', '由', '奇標', '科技', '公司', '推出', '的', '新', '書', 'AI', '神', '助攻', '程式', '設計', '新', '境界', 'Github', ' Copilot', '開發', 'Python', '如虎添翼', '提示', '工程', '問題', '分解', '測試', '案例', '除錯', '你', '將', '體驗', '由', 'AI', '驅動', '的', '程式', '設計', '開發', 'Python', '如虎添翼', '提示', '工程', '問題', '分解', '測試', '案例', '由', 'AI', '驅動', '的', '程式', '設計', '革命', '不再', '是', '繁瑣', '的', '語法', '手冊', '也', '不用', '到處', 'copy', '程式碼', 'Github', ' Copilot', '不僅', '學會', '了', '人類', '的', '程式', '設計', '精華', '還', '能', '透過', '自然', '語言', '協助', '你', '提高', '開發', '效率', '本', '書', '由', '兩', '位', '資訊', '教育', '專家', '共同', '撰寫', '提供', '了', '學習', 'Python', '的', '新', '方法', '書', '中', '精心', '設計', '的', '韓式', '設計', '循環', '流程', '引導', '你', '透過', '實戰', '演練', '掌握', 'AI', '程式', '設計', '的', '關鍵', '技能', '奇標', '科技', '公司', '現在', '提供', '傳人', '頻道', '聽眾', '10', '本', '新', '書', '作為', '抽獎', '現在', '就', '點擊', '下方', '資訊欄', '貼文', '連結', '到', '貼文', '底下', '留言', '一起', '學', '程式', '並', '標註', '一', '位', '朋友', '將', '有', '機會', '抽中', '這', '本', '好書', '喔', '活動', '將', '於', '5月', '14號', '星期二', '23點', '59分', '截止', '快', '到', '資訊欄', '的', '貼文', '連結', '參加', '抽獎', '吧']]\n"
     ]
    },
    {
     "name": "stderr",
     "output_type": "stream",
     "text": [
      "\n"
     ]
    }
   ],
   "source": [
    "from ckip_transformers.nlp import CkipWordSegmenter, CkipPosTagger, CkipNerChunker\n",
    "\n",
    "ws_driver  = CkipWordSegmenter(model=\"bert-base\")\n",
    "# pos_driver = CkipPosTagger(model=\"bert-base\")\n",
    "# ner_driver = CkipNerChunker(model=\"bert-base\")\n",
    "\n",
    "\n",
    "# Use CPU\n",
    "# ws_driver = CkipWordSegmenter(device=-1)\n",
    "# Use GPU:0\n",
    "# ws_driver = CkipWordSegmenter(device=0)\n",
    "\n",
    "# Input text\n",
    "text = [\n",
    "   \"見證程式設計的新時代來臨了由奇標科技公司推出的新書AI神助攻程式設計新境界Github Copilot開發Python如虎添翼提示工程問題分解測試案例除錯你將體驗由AI驅動的程式設計開發Python如虎添翼提示工程問題分解測試案例由AI驅動的程式設計革命不再是繁瑣的語法手冊也不用到處copy程式碼Github Copilot不僅學會了人類的程式設計精華還能透過自然語言協助你提高開發效率本書由兩位資訊教育專家共同撰寫提供了學習Python的新方法書中精心設計的韓式設計循環流程引導你透過實戰演練掌握AI程式設計的關鍵技能奇標科技公司現在提供傳人頻道聽眾10本新書作為抽獎現在就點擊下方資訊欄貼文連結到貼文底下留言一起學程式並標註一位朋友將有機會抽中這本好書喔活動將於5月14號星期二23點59分截止快到資訊欄的貼文連結參加抽獎吧\",\n",
    "]\n",
    "\n",
    "# Run pipeline\n",
    "ws  = ws_driver(text)\n",
    "pos = pos_driver(ws)\n",
    "ner = ner_driver(text)\n",
    "\n",
    "# Enable sentence segmentation\n",
    "ws  = ws_driver(text, use_delim=True)\n",
    "# ner = ner_driver(text, use_delim=True)\n",
    "# Disable sentence segmentation\n",
    "# pos = pos_driver(ws, use_delim=False)\n",
    "# Use new line characters and tabs for sentence segmentation\n",
    "# pos = pos_driver(ws, delim_set='\\n\\t')\n",
    "\n",
    "print(ws)\n",
    "# for sentence, sentence_ws in zip(text, ws):\n",
    "#     print(sentence)\n",
    "#     print(sentence_ws)\n",
    "#     print()"
   ]
  },
  {
   "cell_type": "code",
   "execution_count": null,
   "id": "ba53e520-c78f-4ac0-8d2b-1f23f798870a",
   "metadata": {},
   "outputs": [],
   "source": []
  },
  {
   "cell_type": "code",
   "execution_count": 6,
   "id": "850233f8-fbca-470a-9987-3ca55705a2b6",
   "metadata": {},
   "outputs": [
    {
     "name": "stdout",
     "output_type": "stream",
     "text": [
      "Context of EP227___德國讀電機博士_在職申請甘苦談_海外留學的心境_ft__子源.txt:\n",
      "Context of EP228___海底抓取機器人_研發與實作的進程_博士的心境培養_ft__子源.txt:\n",
      "Context of EP223___中台資工系差異_學生接案經驗談_創新與洞察需求_ft__Yuan_Lin.txt:\n",
      "Context of EP225___哥倫比亞研究生_紐約生活與衝擊_創新開發的學習_ft__Tony.txt:\n",
      "Context of EP230___工程師紓壓策略_心理健康的警訊_建立興趣與支持網_ft__Peter.txt:\n",
      "Context of EP220___工程師媒體經營_人脈建立的橋樑_利他與善的循環_ft__this_web_請網這邊走.txt:\n",
      "Context of EP222___工程師_X_站立喜劇_理工仔的笑話思維_表演與工作的平衡_ft__藍恩.txt:\n",
      "Context of EP219___機電系轉前端_自學網頁歷程_做中學的分享_ft__this_web_請網這邊走.txt:\n",
      "Context of EP229___工程師職場壓力_精神健康的覺察_生活韌性的提升_ft__Peter.txt:\n"
     ]
    }
   ],
   "source": [
    "# python read file\n",
    "import os\n",
    "\n",
    "dataset_path = './dataset'\n",
    "\n",
    "for file in os.listdir(dataset_path):\n",
    "    if file.endswith('.txt'):\n",
    "        file_path = os.path.join(dataset_path, file)\n",
    "\n",
    "        with open(file_path, 'r', encoding='utf-8') as f:\n",
    "            content = f.read()\n",
    "\n",
    "        # print(content)\n",
    "        print(f'Context of {file}:')"
   ]
  },
  {
   "cell_type": "code",
   "execution_count": 1,
   "id": "7934bf60-cd99-4997-afab-7d87f3e500a0",
   "metadata": {},
   "outputs": [
    {
     "data": {
      "text/plain": [
       "['default', 'docs']"
      ]
     },
     "execution_count": 1,
     "metadata": {},
     "output_type": "execute_result"
    }
   ],
   "source": [
    "from pymilvus import connections, db\n",
    "\n",
    "# milvus_conn = connections.connect(host=\"127.0.0.1\", port=19530)\n",
    "\n",
    "database_name = \"docs\"\n",
    "# db.using_database(\"book\")\n",
    "milvus_conn = connections.connect(\n",
    "    host=\"127.0.0.1\",\n",
    "    port=\"19530\",\n",
    "    # db_name=\"book\"\n",
    ")\n",
    "\n",
    "if database_name not in db.list_database():\n",
    "    db.create_database(database_name)\n",
    "\n",
    "db.using_database(database_name)\n",
    "db.list_database()\n"
   ]
  },
  {
   "cell_type": "code",
   "execution_count": 4,
   "id": "c94aa3d3-65a1-4084-9613-c53f380d0a3d",
   "metadata": {
    "scrolled": true
   },
   "outputs": [
    {
     "name": "stdout",
     "output_type": "stream",
     "text": [
      "ID 0 already exists, skipping.\n",
      "ID 1 already exists, skipping.\n",
      "ID 2 already exists, skipping.\n",
      "ID 3 already exists, skipping.\n",
      "ID 4 already exists, skipping.\n",
      "ID 5 already exists, skipping.\n"
     ]
    }
   ],
   "source": [
    "import ollama\n",
    "import chromadb\n",
    "\n",
    "documents = [\n",
    "  \"Llamas are members of the camelid family meaning they're pretty closely related to vicuñas and camels\",\n",
    "  \"Llamas were first domesticated and used as pack animals 4,000 to 5,000 years ago in the Peruvian highlands\",\n",
    "  \"Llamas can grow as much as 6 feet tall though the average llama between 5 feet 6 inches and 5 feet 9 inches tall\",\n",
    "  \"Llamas weigh between 280 and 450 pounds and can carry 25 to 30 percent of their body weight\",\n",
    "  \"Llamas are vegetarians and have very efficient digestive systems\",\n",
    "  \"Llamas live to be about 20 years old, though some only live for 15 years and others live to be 30 years old\",\n",
    "]\n",
    "\n",
    "client = chromadb.Client()\n",
    "\n",
    "# 嘗試取得已存在的 collection，如果不存在則創建新的\n",
    "try:\n",
    "    collection = client.create_collection(name=\"docs\")\n",
    "except Exception as e:\n",
    "    if \"Collection docs already exists\" in str(e):\n",
    "        collection = client.get_collection(name=\"docs\")\n",
    "    else:\n",
    "        raise e\n",
    "\n",
    "# 檢查每個文件 ID 是否已存在，如果存在則跳過新增操作\n",
    "existing_docs = collection.get()\n",
    "existing_ids = set(existing_docs['ids'])\n",
    "\n",
    "# store each document in a vector embedding database\n",
    "for i, d in enumerate(documents):\n",
    "    if str(i) in existing_ids:\n",
    "        print(f\"ID {i} already exists, skipping.\")\n",
    "        continue\n",
    "\n",
    "    response = ollama.embeddings(model=\"mxbai-embed-large\", prompt=d)\n",
    "    embedding = response[\"embedding\"]\n",
    "    collection.add(\n",
    "        ids=[str(i)],\n",
    "        embeddings=[embedding],\n",
    "        documents=[d]\n",
    "    )"
   ]
  },
  {
   "cell_type": "code",
   "execution_count": 8,
   "id": "271144aa-9863-4dc0-91a0-04d5333d11f9",
   "metadata": {},
   "outputs": [],
   "source": [
    "# an example prompt\n",
    "prompt = \"What animals are llamas related to?\"\n",
    "\n",
    "# generate an embedding for the prompt and retrieve the most relevant doc\n",
    "response = ollama.embeddings(\n",
    "  prompt=prompt,\n",
    "  model=\"mxbai-embed-large\"\n",
    ")\n",
    "results = collection.query(\n",
    "  query_embeddings=[response[\"embedding\"]],\n",
    "  n_results=1\n",
    ")\n",
    "data = results['documents'][0][0]"
   ]
  },
  {
   "cell_type": "code",
   "execution_count": 9,
   "id": "7a8a4945",
   "metadata": {
    "scrolled": true
   },
   "outputs": [
    {
     "name": "stdout",
     "output_type": "stream",
     "text": [
      "\n",
      "Llamas are members of the camelid family, which means they are closely related to two other animals: vicuñas and camels. All three species belong to the same taxonomic family (Camelidae) and share many similarities in their physical characteristics and behaviors. Specifically, llamas are most closely related to vicuñas, with which they share a common ancestor that lived around 20-30 million years ago. Camels are also members of this family, but they are more distantly related to llamas than vicuñas.\n"
     ]
    }
   ],
   "source": [
    "ollama.pull(model=\"llama2\")"
   ]
  },
  {
   "cell_type": "code",
   "execution_count": 10,
   "id": "87df5382",
   "metadata": {},
   "outputs": [
    {
     "name": "stdout",
     "output_type": "stream",
     "text": [
      "\n",
      "Llamas are related to several other animals within the camelid family. Specifically, they are most closely related to vicuñas and camels. All three of these animals belong to the family Camelidae and share many similarities in their physical characteristics and behavior. Here are some key similarities between llamas, vicuñas, and camels:\n",
      "\n",
      "1. Physical appearance: Llamas, vicuñas, and camels all have long necks, legs, and ears, as well as a distinctive hump on their backs. They also have thick, coarse coats that help them survive in hot, dry climates.\n",
      "2. Diet: These animals are all herbivores and feed primarily on grasses, leaves, and other vegetation.\n",
      "3. Habitat: Llamas, vicuñas, and camels are all found in the Andean region of South America, where they inhabit high-altitude grasslands and deserts.\n",
      "4. Social behavior: These animals are social creatures and often live in herds. They communicate with each other through a variety of vocalizations, including grunts, bleats, and whistles.\n",
      "5. Reproduction: Llamas, vicuñas, and camels all have a similar reproductive cycle, involving a gestation period of around 11-12 months and a litter size of one or two offspring.\n",
      "\n",
      "In summary, llamas are most closely related to vicuñas and camels within the Camelidae family. These three animals share many physical and behavioral characteristics, and are all found in the Andean region of South America.\n"
     ]
    }
   ],
   "source": [
    "# generate a response combining the prompt and data we retrieved in step 2\n",
    "output = ollama.generate(\n",
    "  model=\"llama2\",\n",
    "  prompt=f\"Using this data: {data}. Respond to this prompt: {prompt}\"\n",
    ")\n",
    "\n",
    "print(output['response'])"
   ]
  },
  {
   "cell_type": "code",
   "execution_count": null,
   "id": "54a211c2-9668-42ad-b045-16db2cd52214",
   "metadata": {},
   "outputs": [],
   "source": []
  }
 ],
 "metadata": {
  "kernelspec": {
   "display_name": "Python 3 (ipykernel)",
   "language": "python",
   "name": "python3"
  },
  "language_info": {
   "codemirror_mode": {
    "name": "ipython",
    "version": 3
   },
   "file_extension": ".py",
   "mimetype": "text/x-python",
   "name": "python",
   "nbconvert_exporter": "python",
   "pygments_lexer": "ipython3",
   "version": "3.12.0"
  }
 },
 "nbformat": 4,
 "nbformat_minor": 5
}
