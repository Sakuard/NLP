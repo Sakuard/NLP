{
 "cells": [
  {
   "cell_type": "code",
   "execution_count": 1,
   "id": "7934bf60-cd99-4997-afab-7d87f3e500a0",
   "metadata": {},
   "outputs": [
    {
     "data": {
      "text/plain": [
       "['default', 'docs']"
      ]
     },
     "execution_count": 1,
     "metadata": {},
     "output_type": "execute_result"
    }
   ],
   "source": [
    "from pymilvus import connections, db\n",
    "\n",
    "# milvus_conn = connections.connect(host=\"127.0.0.1\", port=19530)\n",
    "\n",
    "database_name = \"docs\"\n",
    "# db.using_database(\"book\")\n",
    "milvus_conn = connections.connect(\n",
    "    host=\"127.0.0.1\",\n",
    "    port=\"19530\",\n",
    "    # db_name=\"book\"\n",
    ")\n",
    "\n",
    "if database_name not in db.list_database():\n",
    "    db.create_database(database_name)\n",
    "\n",
    "db.using_database(database_name)\n",
    "db.list_database()\n"
   ]
  },
  {
   "cell_type": "code",
   "execution_count": 4,
   "id": "c94aa3d3-65a1-4084-9613-c53f380d0a3d",
   "metadata": {
    "scrolled": true
   },
   "outputs": [
    {
     "name": "stdout",
     "output_type": "stream",
     "text": [
      "ID 0 already exists, skipping.\n",
      "ID 1 already exists, skipping.\n",
      "ID 2 already exists, skipping.\n",
      "ID 3 already exists, skipping.\n",
      "ID 4 already exists, skipping.\n",
      "ID 5 already exists, skipping.\n"
     ]
    }
   ],
   "source": [
    "import ollama\n",
    "import chromadb\n",
    "\n",
    "documents = [\n",
    "  \"Llamas are members of the camelid family meaning they're pretty closely related to vicuñas and camels\",\n",
    "  \"Llamas were first domesticated and used as pack animals 4,000 to 5,000 years ago in the Peruvian highlands\",\n",
    "  \"Llamas can grow as much as 6 feet tall though the average llama between 5 feet 6 inches and 5 feet 9 inches tall\",\n",
    "  \"Llamas weigh between 280 and 450 pounds and can carry 25 to 30 percent of their body weight\",\n",
    "  \"Llamas are vegetarians and have very efficient digestive systems\",\n",
    "  \"Llamas live to be about 20 years old, though some only live for 15 years and others live to be 30 years old\",\n",
    "]\n",
    "\n",
    "client = chromadb.Client()\n",
    "\n",
    "# 嘗試取得已存在的 collection，如果不存在則創建新的\n",
    "try:\n",
    "    collection = client.create_collection(name=\"docs\")\n",
    "except Exception as e:\n",
    "    if \"Collection docs already exists\" in str(e):\n",
    "        collection = client.get_collection(name=\"docs\")\n",
    "    else:\n",
    "        raise e\n",
    "\n",
    "# 檢查每個文件 ID 是否已存在，如果存在則跳過新增操作\n",
    "existing_docs = collection.get()\n",
    "existing_ids = set(existing_docs['ids'])\n",
    "\n",
    "# store each document in a vector embedding database\n",
    "for i, d in enumerate(documents):\n",
    "    if str(i) in existing_ids:\n",
    "        print(f\"ID {i} already exists, skipping.\")\n",
    "        continue\n",
    "\n",
    "    response = ollama.embeddings(model=\"mxbai-embed-large\", prompt=d)\n",
    "    embedding = response[\"embedding\"]\n",
    "    collection.add(\n",
    "        ids=[str(i)],\n",
    "        embeddings=[embedding],\n",
    "        documents=[d]\n",
    "    )"
   ]
  },
  {
   "cell_type": "code",
   "execution_count": 8,
   "id": "271144aa-9863-4dc0-91a0-04d5333d11f9",
   "metadata": {},
   "outputs": [],
   "source": [
    "# an example prompt\n",
    "prompt = \"What animals are llamas related to?\"\n",
    "\n",
    "# generate an embedding for the prompt and retrieve the most relevant doc\n",
    "response = ollama.embeddings(\n",
    "  prompt=prompt,\n",
    "  model=\"mxbai-embed-large\"\n",
    ")\n",
    "results = collection.query(\n",
    "  query_embeddings=[response[\"embedding\"]],\n",
    "  n_results=1\n",
    ")\n",
    "data = results['documents'][0][0]"
   ]
  },
  {
   "cell_type": "code",
   "execution_count": 9,
   "id": "7a8a4945",
   "metadata": {
    "scrolled": true
   },
   "outputs": [
    {
     "name": "stdout",
     "output_type": "stream",
     "text": [
      "\n",
      "Llamas are members of the camelid family, which means they are closely related to two other animals: vicuñas and camels. All three species belong to the same taxonomic family (Camelidae) and share many similarities in their physical characteristics and behaviors. Specifically, llamas are most closely related to vicuñas, with which they share a common ancestor that lived around 20-30 million years ago. Camels are also members of this family, but they are more distantly related to llamas than vicuñas.\n"
     ]
    }
   ],
   "source": [
    "ollama.pull(model=\"llama2\")"
   ]
  },
  {
   "cell_type": "code",
   "execution_count": 10,
   "id": "87df5382",
   "metadata": {},
   "outputs": [
    {
     "name": "stdout",
     "output_type": "stream",
     "text": [
      "\n",
      "Llamas are related to several other animals within the camelid family. Specifically, they are most closely related to vicuñas and camels. All three of these animals belong to the family Camelidae and share many similarities in their physical characteristics and behavior. Here are some key similarities between llamas, vicuñas, and camels:\n",
      "\n",
      "1. Physical appearance: Llamas, vicuñas, and camels all have long necks, legs, and ears, as well as a distinctive hump on their backs. They also have thick, coarse coats that help them survive in hot, dry climates.\n",
      "2. Diet: These animals are all herbivores and feed primarily on grasses, leaves, and other vegetation.\n",
      "3. Habitat: Llamas, vicuñas, and camels are all found in the Andean region of South America, where they inhabit high-altitude grasslands and deserts.\n",
      "4. Social behavior: These animals are social creatures and often live in herds. They communicate with each other through a variety of vocalizations, including grunts, bleats, and whistles.\n",
      "5. Reproduction: Llamas, vicuñas, and camels all have a similar reproductive cycle, involving a gestation period of around 11-12 months and a litter size of one or two offspring.\n",
      "\n",
      "In summary, llamas are most closely related to vicuñas and camels within the Camelidae family. These three animals share many physical and behavioral characteristics, and are all found in the Andean region of South America.\n"
     ]
    }
   ],
   "source": [
    "# generate a response combining the prompt and data we retrieved in step 2\n",
    "output = ollama.generate(\n",
    "  model=\"llama2\",\n",
    "  prompt=f\"Using this data: {data}. Respond to this prompt: {prompt}\"\n",
    ")\n",
    "\n",
    "print(output['response'])"
   ]
  },
  {
   "cell_type": "code",
   "execution_count": null,
   "id": "54a211c2-9668-42ad-b045-16db2cd52214",
   "metadata": {},
   "outputs": [],
   "source": []
  }
 ],
 "metadata": {
  "kernelspec": {
   "display_name": "Python 3 (ipykernel)",
   "language": "python",
   "name": "python3"
  },
  "language_info": {
   "codemirror_mode": {
    "name": "ipython",
    "version": 3
   },
   "file_extension": ".py",
   "mimetype": "text/x-python",
   "name": "python",
   "nbconvert_exporter": "python",
   "pygments_lexer": "ipython3",
   "version": "3.12.0"
  }
 },
 "nbformat": 4,
 "nbformat_minor": 5
}
